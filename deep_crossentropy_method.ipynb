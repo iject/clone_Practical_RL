{
  "cells": [
    {
      "cell_type": "markdown",
      "metadata": {
        "id": "view-in-github",
        "colab_type": "text"
      },
      "source": [
        "<a href=\"https://colab.research.google.com/github/iject/clone_Practical_RL/blob/main/deep_crossentropy_method.ipynb\" target=\"_parent\"><img src=\"https://colab.research.google.com/assets/colab-badge.svg\" alt=\"Open In Colab\"/></a>"
      ]
    },
    {
      "cell_type": "markdown",
      "metadata": {
        "id": "I_i1q1TWG9zH"
      },
      "source": [
        "# Deep Crossentropy method\n",
        "\n",
        "In this section we'll extend your CEM implementation with neural networks! You will train a multi-layer neural network to solve simple continuous state space games. __Please make sure you're done with tabular crossentropy method from the previous notebook.__\n",
        "\n",
        "![img](https://watanimg.elwatannews.com/old_news_images/large/249765_Large_20140709045740_11.jpg)\n",
        "\n"
      ]
    },
    {
      "cell_type": "code",
      "execution_count": 1,
      "metadata": {
        "id": "t4CJ1sRyG9zJ",
        "outputId": "fc9288e1-3382-4609-fb18-0eb8f2aa1159",
        "colab": {
          "base_uri": "https://localhost:8080/"
        }
      },
      "outputs": [
        {
          "output_type": "stream",
          "name": "stdout",
          "text": [
            "W: Skipping acquire of configured file 'main/source/Sources' as repository 'https://r2u.stat.illinois.edu/ubuntu jammy InRelease' does not seem to provide it (sources.list entry misspelt?)\n",
            "Starting virtual X frame buffer: Xvfb.\n"
          ]
        }
      ],
      "source": [
        "import sys, os\n",
        "if 'google.colab' in sys.modules and not os.path.exists('.setup_complete'):\n",
        "    !wget -q https://raw.githubusercontent.com/yandexdataschool/Practical_RL/master/setup_colab.sh -O- | bash\n",
        "    !touch .setup_complete\n",
        "\n",
        "# This code creates a virtual display to draw game images on.\n",
        "# It will have no effect if your machine has a monitor.\n",
        "if type(os.environ.get(\"DISPLAY\")) is not str or len(os.environ.get(\"DISPLAY\")) == 0:\n",
        "    !bash ../xvfb start\n",
        "    os.environ['DISPLAY'] = ':1'"
      ]
    },
    {
      "cell_type": "code",
      "execution_count": 2,
      "metadata": {
        "id": "C2xd5vPwPVCb",
        "outputId": "bfd5f417-0ef4-4260-b9d5-c4aafa50f496",
        "colab": {
          "base_uri": "https://localhost:8080/"
        }
      },
      "outputs": [
        {
          "output_type": "stream",
          "name": "stdout",
          "text": [
            "Requirement already satisfied: gymnasium[classic_control,toy_text] in /usr/local/lib/python3.11/dist-packages (1.1.1)\n",
            "Requirement already satisfied: numpy>=1.21.0 in /usr/local/lib/python3.11/dist-packages (from gymnasium[classic_control,toy_text]) (2.0.2)\n",
            "Requirement already satisfied: cloudpickle>=1.2.0 in /usr/local/lib/python3.11/dist-packages (from gymnasium[classic_control,toy_text]) (3.1.1)\n",
            "Requirement already satisfied: typing-extensions>=4.3.0 in /usr/local/lib/python3.11/dist-packages (from gymnasium[classic_control,toy_text]) (4.13.2)\n",
            "Requirement already satisfied: farama-notifications>=0.0.1 in /usr/local/lib/python3.11/dist-packages (from gymnasium[classic_control,toy_text]) (0.0.4)\n",
            "Requirement already satisfied: pygame>=2.1.3 in /usr/local/lib/python3.11/dist-packages (from gymnasium[classic_control,toy_text]) (2.6.1)\n"
          ]
        }
      ],
      "source": [
        "# Install gymnasium if you didn't\n",
        "!pip install \"gymnasium[toy_text,classic_control]\""
      ]
    },
    {
      "cell_type": "code",
      "execution_count": 4,
      "metadata": {
        "id": "_2zbc7ahG9zK",
        "outputId": "d3917663-df91-4d70-86f9-69f5d0b48fc8",
        "colab": {
          "base_uri": "https://localhost:8080/",
          "height": 431
        }
      },
      "outputs": [
        {
          "output_type": "stream",
          "name": "stdout",
          "text": [
            "state vector dim = 4\n",
            "n_actions = 2\n"
          ]
        },
        {
          "output_type": "display_data",
          "data": {
            "text/plain": [
              "<Figure size 640x480 with 1 Axes>"
            ],
            "image/png": "[encoded data removed]"
          },
          "metadata": {}
        }
      ],
      "source": [
        "import gymnasium as gym\n",
        "import numpy as np\n",
        "import matplotlib.pyplot as plt\n",
        "%matplotlib inline\n",
        "\n",
        "# if you see \"<classname> has no attribute .env\", remove .env or update gym\n",
        "env = gym.make(\"CartPole-v1\", render_mode=\"rgb_array\").env\n",
        "\n",
        "env.reset()\n",
        "n_actions = env.action_space.n\n",
        "state_dim = env.observation_space.shape[0]\n",
        "\n",
        "plt.imshow(env.render())\n",
        "print(\"state vector dim =\", state_dim)\n",
        "print(\"n_actions =\", n_actions)\n",
        "\n",
        "env.close()"
      ]
    },
    {
      "cell_type": "markdown",
      "metadata": {
        "id": "Z72_alhdG9zK"
      },
      "source": [
        "# Neural Network Policy\n",
        "\n",
        "For this assignment we'll utilize the simplified neural network implementation from __[Scikit-learn](https://scikit-learn.org/stable/modules/generated/sklearn.neural_network.MLPClassifier.html)__. Here's what you'll need:\n",
        "\n",
        "* `agent.partial_fit(states, actions)` - make a single training pass over the data. Maximize the probability of :actions: from :states:\n",
        "* `agent.predict_proba(states)` - predict probabilities of all actions, a matrix of shape __[len(states), n_actions]__\n"
      ]
    },
    {
      "cell_type": "code",
      "source": [
        "env.reset(), [env.reset()[0]] * n_actions"
      ],
      "metadata": {
        "id": "NDB1inrCVMEN",
        "outputId": "2fffa1b6-4217-4c00-8167-0481850e0466",
        "colab": {
          "base_uri": "https://localhost:8080/"
        }
      },
      "execution_count": 8,
      "outputs": [
        {
          "output_type": "execute_result",
          "data": {
            "text/plain": [
              "((array([-0.0368535 , -0.01571252,  0.00885971, -0.01478082], dtype=float32),\n",
              "  {}),\n",
              " [array([-0.01784055,  0.03477479,  0.02146151,  0.04810493], dtype=float32),\n",
              "  array([-0.01784055,  0.03477479,  0.02146151,  0.04810493], dtype=float32)])"
            ]
          },
          "metadata": {},
          "execution_count": 8
        }
      ]
    },
    {
      "cell_type": "code",
      "execution_count": 26,
      "metadata": {
        "id": "wLItY4unG9zL",
        "outputId": "8fbab4b0-3506-4917-fbae-9f01e70b124b",
        "colab": {
          "base_uri": "https://localhost:8080/",
          "height": 80
        }
      },
      "outputs": [
        {
          "output_type": "execute_result",
          "data": {
            "text/plain": [
              "MLPClassifier(activation='tanh', hidden_layer_sizes=(20, 20))"
            ],
            "text/html": [
              "<style>#sk-container-id-4 {\n",
              "  /* Definition of color scheme common for light and dark mode */\n",
              "  --sklearn-color-text: #000;\n",
              "  --sklearn-color-text-muted: #666;\n",
              "  --sklearn-color-line: gray;\n",
              "  /* Definition of color scheme for unfitted estimators */\n",
              "  --sklearn-color-unfitted-level-0: #fff5e6;\n",
              "  --sklearn-color-unfitted-level-1: #f6e4d2;\n",
              "  --sklearn-color-unfitted-level-2: #ffe0b3;\n",
              "  --sklearn-color-unfitted-level-3: chocolate;\n",
              "  /* Definition of color scheme for fitted estimators */\n",
              "  --sklearn-color-fitted-level-0: #f0f8ff;\n",
              "  --sklearn-color-fitted-level-1: #d4ebff;\n",
              "  --sklearn-color-fitted-level-2: #b3dbfd;\n",
              "  --sklearn-color-fitted-level-3: cornflowerblue;\n",
              "\n",
              "  /* Specific color for light theme */\n",
              "  --sklearn-color-text-on-default-background: var(--sg-text-color, var(--theme-code-foreground, var(--jp-content-font-color1, black)));\n",
              "  --sklearn-color-background: var(--sg-background-color, var(--theme-background, var(--jp-layout-color0, white)));\n",
              "  --sklearn-color-border-box: var(--sg-text-color, var(--theme-code-foreground, var(--jp-content-font-color1, black)));\n",
              "  --sklearn-color-icon: #696969;\n",
              "\n",
              "  @media (prefers-color-scheme: dark) {\n",
              "    /* Redefinition of color scheme for dark theme */\n",
              "    --sklearn-color-text-on-default-background: var(--sg-text-color, var(--theme-code-foreground, var(--jp-content-font-color1, white)));\n",
              "    --sklearn-color-background: var(--sg-background-color, var(--theme-background, var(--jp-layout-color0, #111)));\n",
              "    --sklearn-color-border-box: var(--sg-text-color, var(--theme-code-foreground, var(--jp-content-font-color1, white)));\n",
              "    --sklearn-color-icon: #878787;\n",
              "  }\n",
              "}\n",
              "\n",
              "#sk-container-id-4 {\n",
              "  color: var(--sklearn-color-text);\n",
              "}\n",
              "\n",
              "#sk-container-id-4 pre {\n",
              "  padding: 0;\n",
              "}\n",
              "\n",
              "#sk-container-id-4 input.sk-hidden--visually {\n",
              "  border: 0;\n",
              "  clip: rect(1px 1px 1px 1px);\n",
              "  clip: rect(1px, 1px, 1px, 1px);\n",
              "  height: 1px;\n",
              "  margin: -1px;\n",
              "  overflow: hidden;\n",
              "  padding: 0;\n",
              "  position: absolute;\n",
              "  width: 1px;\n",
              "}\n",
              "\n",
              "#sk-container-id-4 div.sk-dashed-wrapped {\n",
              "  border: 1px dashed var(--sklearn-color-line);\n",
              "  margin: 0 0.4em 0.5em 0.4em;\n",
              "  box-sizing: border-box;\n",
              "  padding-bottom: 0.4em;\n",
              "  background-color: var(--sklearn-color-background);\n",
              "}\n",
              "\n",
              "#sk-container-id-4 div.sk-container {\n",
              "  /* jupyter's `normalize.less` sets `[hidden] { display: none; }`\n",
              "     but bootstrap.min.css set `[hidden] { display: none !important; }`\n",
              "     so we also need the `!important` here to be able to override the\n",
              "     default hidden behavior on the sphinx rendered scikit-learn.org.\n",
              "     See: https://github.com/scikit-learn/scikit-learn/issues/21755 */\n",
              "  display: inline-block !important;\n",
              "  position: relative;\n",
              "}\n",
              "\n",
              "#sk-container-id-4 div.sk-text-repr-fallback {\n",
              "  display: none;\n",
              "}\n",
              "\n",
              "div.sk-parallel-item,\n",
              "div.sk-serial,\n",
              "div.sk-item {\n",
              "  /* draw centered vertical line to link estimators */\n",
              "  background-image: linear-gradient(var(--sklearn-color-text-on-default-background), var(--sklearn-color-text-on-default-background));\n",
              "  background-size: 2px 100%;\n",
              "  background-repeat: no-repeat;\n",
              "  background-position: center center;\n",
              "}\n",
              "\n",
              "/* Parallel-specific style estimator block */\n",
              "\n",
              "#sk-container-id-4 div.sk-parallel-item::after {\n",
              "  content: \"\";\n",
              "  width: 100%;\n",
              "  border-bottom: 2px solid var(--sklearn-color-text-on-default-background);\n",
              "  flex-grow: 1;\n",
              "}\n",
              "\n",
              "#sk-container-id-4 div.sk-parallel {\n",
              "  display: flex;\n",
              "  align-items: stretch;\n",
              "  justify-content: center;\n",
              "  background-color: var(--sklearn-color-background);\n",
              "  position: relative;\n",
              "}\n",
              "\n",
              "#sk-container-id-4 div.sk-parallel-item {\n",
              "  display: flex;\n",
              "  flex-direction: column;\n",
              "}\n",
              "\n",
              "#sk-container-id-4 div.sk-parallel-item:first-child::after {\n",
              "  align-self: flex-end;\n",
              "  width: 50%;\n",
              "}\n",
              "\n",
              "#sk-container-id-4 div.sk-parallel-item:last-child::after {\n",
              "  align-self: flex-start;\n",
              "  width: 50%;\n",
              "}\n",
              "\n",
              "#sk-container-id-4 div.sk-parallel-item:only-child::after {\n",
              "  width: 0;\n",
              "}\n",
              "\n",
              "/* Serial-specific style estimator block */\n",
              "\n",
              "#sk-container-id-4 div.sk-serial {\n",
              "  display: flex;\n",
              "  flex-direction: column;\n",
              "  align-items: center;\n",
              "  background-color: var(--sklearn-color-background);\n",
              "  padding-right: 1em;\n",
              "  padding-left: 1em;\n",
              "}\n",
              "\n",
              "\n",
              "/* Toggleable style: style used for estimator/Pipeline/ColumnTransformer box that is\n",
              "clickable and can be expanded/collapsed.\n",
              "- Pipeline and ColumnTransformer use this feature and define the default style\n",
              "- Estimators will overwrite some part of the style using the `sk-estimator` class\n",
              "*/\n",
              "\n",
              "/* Pipeline and ColumnTransformer style (default) */\n",
              "\n",
              "#sk-container-id-4 div.sk-toggleable {\n",
              "  /* Default theme specific background. It is overwritten whether we have a\n",
              "  specific estimator or a Pipeline/ColumnTransformer */\n",
              "  background-color: var(--sklearn-color-background);\n",
              "}\n",
              "\n",
              "/* Toggleable label */\n",
              "#sk-container-id-4 label.sk-toggleable__label {\n",
              "  cursor: pointer;\n",
              "  display: flex;\n",
              "  width: 100%;\n",
              "  margin-bottom: 0;\n",
              "  padding: 0.5em;\n",
              "  box-sizing: border-box;\n",
              "  text-align: center;\n",
              "  align-items: start;\n",
              "  justify-content: space-between;\n",
              "  gap: 0.5em;\n",
              "}\n",
              "\n",
              "#sk-container-id-4 label.sk-toggleable__label .caption {\n",
              "  font-size: 0.6rem;\n",
              "  font-weight: lighter;\n",
              "  color: var(--sklearn-color-text-muted);\n",
              "}\n",
              "\n",
              "#sk-container-id-4 label.sk-toggleable__label-arrow:before {\n",
              "  /* Arrow on the left of the label */\n",
              "  content: \"▸\";\n",
              "  float: left;\n",
              "  margin-right: 0.25em;\n",
              "  color: var(--sklearn-color-icon);\n",
              "}\n",
              "\n",
              "#sk-container-id-4 label.sk-toggleable__label-arrow:hover:before {\n",
              "  color: var(--sklearn-color-text);\n",
              "}\n",
              "\n",
              "/* Toggleable content - dropdown */\n",
              "\n",
              "#sk-container-id-4 div.sk-toggleable__content {\n",
              "  max-height: 0;\n",
              "  max-width: 0;\n",
              "  overflow: hidden;\n",
              "  text-align: left;\n",
              "  /* unfitted */\n",
              "  background-color: var(--sklearn-color-unfitted-level-0);\n",
              "}\n",
              "\n",
              "#sk-container-id-4 div.sk-toggleable__content.fitted {\n",
              "  /* fitted */\n",
              "  background-color: var(--sklearn-color-fitted-level-0);\n",
              "}\n",
              "\n",
              "#sk-container-id-4 div.sk-toggleable__content pre {\n",
              "  margin: 0.2em;\n",
              "  border-radius: 0.25em;\n",
              "  color: var(--sklearn-color-text);\n",
              "  /* unfitted */\n",
              "  background-color: var(--sklearn-color-unfitted-level-0);\n",
              "}\n",
              "\n",
              "#sk-container-id-4 div.sk-toggleable__content.fitted pre {\n",
              "  /* unfitted */\n",
              "  background-color: var(--sklearn-color-fitted-level-0);\n",
              "}\n",
              "\n",
              "#sk-container-id-4 input.sk-toggleable__control:checked~div.sk-toggleable__content {\n",
              "  /* Expand drop-down */\n",
              "  max-height: 200px;\n",
              "  max-width: 100%;\n",
              "  overflow: auto;\n",
              "}\n",
              "\n",
              "#sk-container-id-4 input.sk-toggleable__control:checked~label.sk-toggleable__label-arrow:before {\n",
              "  content: \"▾\";\n",
              "}\n",
              "\n",
              "/* Pipeline/ColumnTransformer-specific style */\n",
              "\n",
              "#sk-container-id-4 div.sk-label input.sk-toggleable__control:checked~label.sk-toggleable__label {\n",
              "  color: var(--sklearn-color-text);\n",
              "  background-color: var(--sklearn-color-unfitted-level-2);\n",
              "}\n",
              "\n",
              "#sk-container-id-4 div.sk-label.fitted input.sk-toggleable__control:checked~label.sk-toggleable__label {\n",
              "  background-color: var(--sklearn-color-fitted-level-2);\n",
              "}\n",
              "\n",
              "/* Estimator-specific style */\n",
              "\n",
              "/* Colorize estimator box */\n",
              "#sk-container-id-4 div.sk-estimator input.sk-toggleable__control:checked~label.sk-toggleable__label {\n",
              "  /* unfitted */\n",
              "  background-color: var(--sklearn-color-unfitted-level-2);\n",
              "}\n",
              "\n",
              "#sk-container-id-4 div.sk-estimator.fitted input.sk-toggleable__control:checked~label.sk-toggleable__label {\n",
              "  /* fitted */\n",
              "  background-color: var(--sklearn-color-fitted-level-2);\n",
              "}\n",
              "\n",
              "#sk-container-id-4 div.sk-label label.sk-toggleable__label,\n",
              "#sk-container-id-4 div.sk-label label {\n",
              "  /* The background is the default theme color */\n",
              "  color: var(--sklearn-color-text-on-default-background);\n",
              "}\n",
              "\n",
              "/* On hover, darken the color of the background */\n",
              "#sk-container-id-4 div.sk-label:hover label.sk-toggleable__label {\n",
              "  color: var(--sklearn-color-text);\n",
              "  background-color: var(--sklearn-color-unfitted-level-2);\n",
              "}\n",
              "\n",
              "/* Label box, darken color on hover, fitted */\n",
              "#sk-container-id-4 div.sk-label.fitted:hover label.sk-toggleable__label.fitted {\n",
              "  color: var(--sklearn-color-text);\n",
              "  background-color: var(--sklearn-color-fitted-level-2);\n",
              "}\n",
              "\n",
              "/* Estimator label */\n",
              "\n",
              "#sk-container-id-4 div.sk-label label {\n",
              "  font-family: monospace;\n",
              "  font-weight: bold;\n",
              "  display: inline-block;\n",
              "  line-height: 1.2em;\n",
              "}\n",
              "\n",
              "#sk-container-id-4 div.sk-label-container {\n",
              "  text-align: center;\n",
              "}\n",
              "\n",
              "/* Estimator-specific */\n",
              "#sk-container-id-4 div.sk-estimator {\n",
              "  font-family: monospace;\n",
              "  border: 1px dotted var(--sklearn-color-border-box);\n",
              "  border-radius: 0.25em;\n",
              "  box-sizing: border-box;\n",
              "  margin-bottom: 0.5em;\n",
              "  /* unfitted */\n",
              "  background-color: var(--sklearn-color-unfitted-level-0);\n",
              "}\n",
              "\n",
              "#sk-container-id-4 div.sk-estimator.fitted {\n",
              "  /* fitted */\n",
              "  background-color: var(--sklearn-color-fitted-level-0);\n",
              "}\n",
              "\n",
              "/* on hover */\n",
              "#sk-container-id-4 div.sk-estimator:hover {\n",
              "  /* unfitted */\n",
              "  background-color: var(--sklearn-color-unfitted-level-2);\n",
              "}\n",
              "\n",
              "#sk-container-id-4 div.sk-estimator.fitted:hover {\n",
              "  /* fitted */\n",
              "  background-color: var(--sklearn-color-fitted-level-2);\n",
              "}\n",
              "\n",
              "/* Specification for estimator info (e.g. \"i\" and \"?\") */\n",
              "\n",
              "/* Common style for \"i\" and \"?\" */\n",
              "\n",
              ".sk-estimator-doc-link,\n",
              "a:link.sk-estimator-doc-link,\n",
              "a:visited.sk-estimator-doc-link {\n",
              "  float: right;\n",
              "  font-size: smaller;\n",
              "  line-height: 1em;\n",
              "  font-family: monospace;\n",
              "  background-color: var(--sklearn-color-background);\n",
              "  border-radius: 1em;\n",
              "  height: 1em;\n",
              "  width: 1em;\n",
              "  text-decoration: none !important;\n",
              "  margin-left: 0.5em;\n",
              "  text-align: center;\n",
              "  /* unfitted */\n",
              "  border: var(--sklearn-color-unfitted-level-1) 1pt solid;\n",
              "  color: var(--sklearn-color-unfitted-level-1);\n",
              "}\n",
              "\n",
              ".sk-estimator-doc-link.fitted,\n",
              "a:link.sk-estimator-doc-link.fitted,\n",
              "a:visited.sk-estimator-doc-link.fitted {\n",
              "  /* fitted */\n",
              "  border: var(--sklearn-color-fitted-level-1) 1pt solid;\n",
              "  color: var(--sklearn-color-fitted-level-1);\n",
              "}\n",
              "\n",
              "/* On hover */\n",
              "div.sk-estimator:hover .sk-estimator-doc-link:hover,\n",
              ".sk-estimator-doc-link:hover,\n",
              "div.sk-label-container:hover .sk-estimator-doc-link:hover,\n",
              ".sk-estimator-doc-link:hover {\n",
              "  /* unfitted */\n",
              "  background-color: var(--sklearn-color-unfitted-level-3);\n",
              "  color: var(--sklearn-color-background);\n",
              "  text-decoration: none;\n",
              "}\n",
              "\n",
              "div.sk-estimator.fitted:hover .sk-estimator-doc-link.fitted:hover,\n",
              ".sk-estimator-doc-link.fitted:hover,\n",
              "div.sk-label-container:hover .sk-estimator-doc-link.fitted:hover,\n",
              ".sk-estimator-doc-link.fitted:hover {\n",
              "  /* fitted */\n",
              "  background-color: var(--sklearn-color-fitted-level-3);\n",
              "  color: var(--sklearn-color-background);\n",
              "  text-decoration: none;\n",
              "}\n",
              "\n",
              "/* Span, style for the box shown on hovering the info icon */\n",
              ".sk-estimator-doc-link span {\n",
              "  display: none;\n",
              "  z-index: 9999;\n",
              "  position: relative;\n",
              "  font-weight: normal;\n",
              "  right: .2ex;\n",
              "  padding: .5ex;\n",
              "  margin: .5ex;\n",
              "  width: min-content;\n",
              "  min-width: 20ex;\n",
              "  max-width: 50ex;\n",
              "  color: var(--sklearn-color-text);\n",
              "  box-shadow: 2pt 2pt 4pt #999;\n",
              "  /* unfitted */\n",
              "  background: var(--sklearn-color-unfitted-level-0);\n",
              "  border: .5pt solid var(--sklearn-color-unfitted-level-3);\n",
              "}\n",
              "\n",
              ".sk-estimator-doc-link.fitted span {\n",
              "  /* fitted */\n",
              "  background: var(--sklearn-color-fitted-level-0);\n",
              "  border: var(--sklearn-color-fitted-level-3);\n",
              "}\n",
              "\n",
              ".sk-estimator-doc-link:hover span {\n",
              "  display: block;\n",
              "}\n",
              "\n",
              "/* \"?\"-specific style due to the `<a>` HTML tag */\n",
              "\n",
              "#sk-container-id-4 a.estimator_doc_link {\n",
              "  float: right;\n",
              "  font-size: 1rem;\n",
              "  line-height: 1em;\n",
              "  font-family: monospace;\n",
              "  background-color: var(--sklearn-color-background);\n",
              "  border-radius: 1rem;\n",
              "  height: 1rem;\n",
              "  width: 1rem;\n",
              "  text-decoration: none;\n",
              "  /* unfitted */\n",
              "  color: var(--sklearn-color-unfitted-level-1);\n",
              "  border: var(--sklearn-color-unfitted-level-1) 1pt solid;\n",
              "}\n",
              "\n",
              "#sk-container-id-4 a.estimator_doc_link.fitted {\n",
              "  /* fitted */\n",
              "  border: var(--sklearn-color-fitted-level-1) 1pt solid;\n",
              "  color: var(--sklearn-color-fitted-level-1);\n",
              "}\n",
              "\n",
              "/* On hover */\n",
              "#sk-container-id-4 a.estimator_doc_link:hover {\n",
              "  /* unfitted */\n",
              "  background-color: var(--sklearn-color-unfitted-level-3);\n",
              "  color: var(--sklearn-color-background);\n",
              "  text-decoration: none;\n",
              "}\n",
              "\n",
              "#sk-container-id-4 a.estimator_doc_link.fitted:hover {\n",
              "  /* fitted */\n",
              "  background-color: var(--sklearn-color-fitted-level-3);\n",
              "}\n",
              "</style><div id=\"sk-container-id-4\" class=\"sk-top-container\"><div class=\"sk-text-repr-fallback\"><pre>MLPClassifier(activation=&#x27;tanh&#x27;, hidden_layer_sizes=(20, 20))</pre><b>In a Jupyter environment, please rerun this cell to show the HTML representation or trust the notebook. <br />On GitHub, the HTML representation is unable to render, please try loading this page with nbviewer.org.</b></div><div class=\"sk-container\" hidden><div class=\"sk-item\"><div class=\"sk-estimator fitted sk-toggleable\"><input class=\"sk-toggleable__control sk-hidden--visually\" id=\"sk-estimator-id-4\" type=\"checkbox\" checked><label for=\"sk-estimator-id-4\" class=\"sk-toggleable__label fitted sk-toggleable__label-arrow\"><div><div>MLPClassifier</div></div><div><a class=\"sk-estimator-doc-link fitted\" rel=\"noreferrer\" target=\"_blank\" href=\"https://scikit-learn.org/1.6/modules/generated/sklearn.neural_network.MLPClassifier.html\">?<span>Documentation for MLPClassifier</span></a><span class=\"sk-estimator-doc-link fitted\">i<span>Fitted</span></span></div></label><div class=\"sk-toggleable__content fitted\"><pre>MLPClassifier(activation=&#x27;tanh&#x27;, hidden_layer_sizes=(20, 20))</pre></div> </div></div></div></div>"
            ]
          },
          "metadata": {},
          "execution_count": 26
        }
      ],
      "source": [
        "from sklearn.neural_network import MLPClassifier\n",
        "\n",
        "agent = MLPClassifier(\n",
        "    hidden_layer_sizes=(20, 20),\n",
        "    activation=\"tanh\",\n",
        ")\n",
        "\n",
        "# initialize agent to the dimension of state space and number of actions\n",
        "agent.partial_fit([env.reset()[0]] * n_actions, range(n_actions), range(n_actions))\n",
        "# agent.partial_fit([env.reset()[0]], [0], range(n_actions))\n"
      ]
    },
    {
      "cell_type": "code",
      "source": [
        "agent.predict_proba(env.reset()[0].reshape(1, -1))"
      ],
      "metadata": {
        "id": "4TBpYv9EWEK9",
        "outputId": "bade7180-ec50-468b-e668-02e797c836c1",
        "colab": {
          "base_uri": "https://localhost:8080/"
        }
      },
      "execution_count": 27,
      "outputs": [
        {
          "output_type": "execute_result",
          "data": {
            "text/plain": [
              "array([[0.3651683, 0.6348317]])"
            ]
          },
          "metadata": {},
          "execution_count": 27
        }
      ]
    },
    {
      "cell_type": "code",
      "source": [
        "\n",
        "env.action_space.n"
      ],
      "metadata": {
        "id": "cGZREKoqY3dl",
        "outputId": "c4a79038-8917-4e3e-e30f-606b323d11ab",
        "colab": {
          "base_uri": "https://localhost:8080/"
        }
      },
      "execution_count": 28,
      "outputs": [
        {
          "output_type": "execute_result",
          "data": {
            "text/plain": [
              "np.int64(2)"
            ]
          },
          "metadata": {},
          "execution_count": 28
        }
      ]
    },
    {
      "cell_type": "code",
      "execution_count": 76,
      "metadata": {
        "id": "eyFS3oUmG9zL"
      },
      "outputs": [],
      "source": [
        "def generate_session(env, agent, t_max=1000):\n",
        "    \"\"\"\n",
        "    Play a single game using agent neural network.\n",
        "    Terminate when game finishes or after :t_max: steps\n",
        "    \"\"\"\n",
        "    states, actions = [], []\n",
        "    total_reward = 0\n",
        "\n",
        "    s, _ = env.reset()\n",
        "\n",
        "    for t in range(t_max):\n",
        "\n",
        "        # use agent to predict a vector of action probabilities for state :s:\n",
        "        probs = agent.predict_proba(s.reshape(1, -1)).reshape(2)\n",
        "\n",
        "        assert probs.shape == (env.action_space.n,), \"make sure probabilities are a vector (hint: np.reshape)\"\n",
        "\n",
        "        # use the probabilities you predicted to pick an action\n",
        "        # sample proportionally to the probabilities, don't just take the most likely action\n",
        "        a = np.random.choice(n_actions, 1, p=probs)[0]\n",
        "        # ^-- hint: try np.random.choice\n",
        "\n",
        "        new_s, r, terminated, truncated, _ = env.step(a)\n",
        "\n",
        "        # record sessions like you did before\n",
        "        states.append(s)\n",
        "        actions.append(a)\n",
        "        total_reward += r\n",
        "\n",
        "        s = new_s\n",
        "        if terminated or truncated:\n",
        "            break\n",
        "    return np.stack(states), np.stack(actions), total_reward\n"
      ]
    },
    {
      "cell_type": "code",
      "execution_count": 77,
      "metadata": {
        "id": "4xgrTCgJG9zL",
        "outputId": "ff200597-d132-439f-9b68-5e269bbf373c",
        "colab": {
          "base_uri": "https://localhost:8080/"
        }
      },
      "outputs": [
        {
          "output_type": "stream",
          "name": "stdout",
          "text": [
            "states: [[-0.0110669   0.01287427 -0.03484854 -0.04857659]\n",
            " [-0.01080942  0.20847814 -0.03582007 -0.35204765]\n",
            " [-0.00663986  0.01388339 -0.04286102 -0.07087162]\n",
            " [-0.00636219  0.20959277 -0.04427845 -0.37676337]\n",
            " [-0.00217033  0.01512676 -0.05181372 -0.09836387]]\n",
            "actions: [1 0 1 0 1]\n",
            "reward: 5.0\n"
          ]
        }
      ],
      "source": [
        "dummy_states, dummy_actions, dummy_reward = generate_session(env, agent, t_max=5)\n",
        "print(\"states:\", dummy_states)\n",
        "print(\"actions:\", dummy_actions)\n",
        "print(\"reward:\", dummy_reward)\n"
      ]
    },
    {
      "cell_type": "markdown",
      "metadata": {
        "id": "p85lt16qG9zL"
      },
      "source": [
        "### CEM steps\n",
        "Deep CEM uses exactly the same strategy as the regular CEM, so you can copy your function code from previous notebook.\n",
        "\n",
        "The only difference is that now each observation is not a number but a `float32` vector."
      ]
    },
    {
      "cell_type": "code",
      "execution_count": 88,
      "metadata": {
        "id": "4On-p7p4G9zL"
      },
      "outputs": [],
      "source": [
        "def select_elites(states_batch, actions_batch, rewards_batch, percentile=50):\n",
        "    \"\"\"\n",
        "    Select states and actions from games that have rewards >= percentile\n",
        "    :param states_batch: list of lists of states, states_batch[session_i][t]\n",
        "    :param actions_batch: list of lists of actions, actions_batch[session_i][t]\n",
        "    :param rewards_batch: list of rewards, rewards_batch[session_i]\n",
        "\n",
        "    :returns: elite_states,elite_actions, both 1D lists of states and respective actions from elite sessions\n",
        "\n",
        "    Please return elite states and actions in their original order\n",
        "    [i.e. sorted by session number and timestep within session]\n",
        "\n",
        "    If you are confused, see examples below. Please don't assume that states are integers\n",
        "    (they will become different later).\n",
        "    \"\"\"\n",
        "\n",
        "    rewards_batch = np.array(rewards_batch)\n",
        "\n",
        "    reward_threshold = np.percentile(rewards_batch, percentile)\n",
        "\n",
        "    elite_states = []\n",
        "    elite_actions = []\n",
        "\n",
        "    for i in range(len(rewards_batch)):\n",
        "      if rewards_batch[i] >= reward_threshold:\n",
        "        elite_states.extend(states_batch[i])\n",
        "        elite_actions.extend(actions_batch[i])\n",
        "\n",
        "    return elite_states, elite_actions\n"
      ]
    },
    {
      "cell_type": "markdown",
      "metadata": {
        "id": "xc40V4DaG9zM"
      },
      "source": [
        "# Training loop\n",
        "Generate sessions, select N best and fit to those."
      ]
    },
    {
      "cell_type": "code",
      "execution_count": 45,
      "metadata": {
        "id": "PPwVKwF7G9zM"
      },
      "outputs": [],
      "source": [
        "from IPython.display import clear_output\n",
        "\n",
        "\n",
        "def show_progress(rewards_batch, log, percentile, reward_range=[-990, +10]):\n",
        "    \"\"\"\n",
        "    A convenience function that displays training progress.\n",
        "    No cool math here, just charts.\n",
        "    \"\"\"\n",
        "\n",
        "    mean_reward = np.mean(rewards_batch)\n",
        "    threshold = np.percentile(rewards_batch, percentile)\n",
        "    log.append([mean_reward, threshold])\n",
        "\n",
        "    clear_output(True)\n",
        "    print(\"mean reward = %.3f, threshold=%.3f\" % (mean_reward, threshold))\n",
        "    plt.figure(figsize=[8, 4])\n",
        "    plt.subplot(1, 2, 1)\n",
        "    plt.plot(list(zip(*log))[0], label=\"Mean rewards\")\n",
        "    plt.plot(list(zip(*log))[1], label=\"Reward thresholds\")\n",
        "    plt.legend()\n",
        "    plt.grid()\n",
        "\n",
        "    plt.subplot(1, 2, 2)\n",
        "    plt.hist(rewards_batch, range=reward_range)\n",
        "    plt.vlines(\n",
        "        [np.percentile(rewards_batch, percentile)],\n",
        "        [0],\n",
        "        [100],\n",
        "        label=\"percentile\",\n",
        "        color=\"red\",\n",
        "    )\n",
        "    plt.legend()\n",
        "    plt.grid()\n",
        "\n",
        "    plt.show()\n"
      ]
    },
    {
      "cell_type": "code",
      "source": [
        "test = ([1,2,3], ['a', 'b', 'c'], [-1, -2, -3])\n",
        "print(test)\n",
        "print(*test)\n",
        "print(list(zip(*test)))\n",
        "for i in list(zip(*sessions[0:2])):\n",
        "  display(i)\n",
        "  display(np.stack(i, axis=0))\n",
        "\n",
        "# print(list(zip(*sessions))[0])"
      ],
      "metadata": {
        "id": "NetcQ-1-b7Rf",
        "outputId": "ada8ed8b-fafc-4366-cb9b-20c3dcd24d07",
        "colab": {
          "base_uri": "https://localhost:8080/",
          "height": 974
        }
      },
      "execution_count": 82,
      "outputs": [
        {
          "output_type": "stream",
          "name": "stdout",
          "text": [
            "([1, 2, 3], ['a', 'b', 'c'], [-1, -2, -3])\n",
            "[1, 2, 3] ['a', 'b', 'c'] [-1, -2, -3]\n",
            "[(1, 'a', -1), (2, 'b', -2), (3, 'c', -3)]\n"
          ]
        },
        {
          "output_type": "display_data",
          "data": {
            "text/plain": [
              "(array([[ 0.02668703, -0.03758764,  0.02040996,  0.0319427 ],\n",
              "        [ 0.02593528,  0.15723577,  0.02104882, -0.25423142],\n",
              "        [ 0.02908   , -0.03818031,  0.01596419,  0.04501564],\n",
              "        [ 0.02831639,  0.15670913,  0.0168645 , -0.242588  ],\n",
              "        [ 0.03145057,  0.3515862 ,  0.01201274, -0.52990407],\n",
              "        [ 0.0384823 ,  0.5465371 ,  0.00141466, -0.8187777 ],\n",
              "        [ 0.04941304,  0.35139582, -0.01496089, -0.52565014],\n",
              "        [ 0.05644095,  0.15648755, -0.0254739 , -0.2377188 ],\n",
              "        [ 0.0595707 ,  0.351964  , -0.03022827, -0.53832686],\n",
              "        [ 0.06660999,  0.15727976, -0.04099481, -0.25531968],\n",
              "        [ 0.06975558,  0.35296232, -0.0461012 , -0.560646  ],\n",
              "        [ 0.07681483,  0.5487    , -0.05731412, -0.86748946],\n",
              "        [ 0.08778883,  0.35440275, -0.07466391, -0.59336334],\n",
              "        [ 0.09487688,  0.5504861 , -0.08653118, -0.9085997 ],\n",
              "        [ 0.1058866 ,  0.746666  , -0.10470317, -1.227177  ],\n",
              "        [ 0.12081993,  0.5530359 , -0.12924671, -0.9690489 ],\n",
              "        [ 0.13188064,  0.35986367, -0.1486277 , -0.71960026],\n",
              "        [ 0.13907792,  0.5566953 , -0.1630197 , -1.0551285 ],\n",
              "        [ 0.15021183,  0.36406508, -0.18412226, -0.81772983],\n",
              "        [ 0.15749311,  0.17187636, -0.20047687, -0.58814615]],\n",
              "       dtype=float32),\n",
              " array([[ 0.04694254, -0.0335407 , -0.02784091,  0.01481649],\n",
              "        [ 0.04627172,  0.16196923, -0.02754458, -0.28651893],\n",
              "        [ 0.04951111,  0.35747296, -0.03327496, -0.5877604 ],\n",
              "        [ 0.05666057,  0.16283241, -0.04503017, -0.3057422 ],\n",
              "        [ 0.05991722,  0.35856616, -0.05114501, -0.6122796 ],\n",
              "        [ 0.06708854,  0.5543642 , -0.06339061, -0.9206227 ],\n",
              "        [ 0.07817582,  0.36015356, -0.08180306, -0.64851624],\n",
              "        [ 0.08537889,  0.5563141 , -0.09477338, -0.96579635],\n",
              "        [ 0.09650518,  0.7525724 , -0.11408931, -1.2866844 ],\n",
              "        [ 0.11155663,  0.9489463 , -0.13982299, -1.6127998 ],\n",
              "        [ 0.13053556,  0.75572455, -0.172079  , -1.3667699 ],\n",
              "        [ 0.14565004,  0.95253164, -0.19941439, -1.7079624 ]],\n",
              "       dtype=float32))"
            ]
          },
          "metadata": {}
        },
        {
          "output_type": "error",
          "ename": "ValueError",
          "evalue": "all input arrays must have the same shape",
          "traceback": [
            "\u001b[0;31m---------------------------------------------------------------------------\u001b[0m",
            "\u001b[0;31mValueError\u001b[0m                                Traceback (most recent call last)",
            "\u001b[0;32m<ipython-input-82-5e2f4474f5ad>\u001b[0m in \u001b[0;36m<cell line: 0>\u001b[0;34m()\u001b[0m\n\u001b[1;32m      5\u001b[0m \u001b[0;32mfor\u001b[0m \u001b[0mi\u001b[0m \u001b[0;32min\u001b[0m \u001b[0mlist\u001b[0m\u001b[0;34m(\u001b[0m\u001b[0mzip\u001b[0m\u001b[0;34m(\u001b[0m\u001b[0;34m*\u001b[0m\u001b[0msessions\u001b[0m\u001b[0;34m[\u001b[0m\u001b[0;36m0\u001b[0m\u001b[0;34m:\u001b[0m\u001b[0;36m2\u001b[0m\u001b[0;34m]\u001b[0m\u001b[0;34m)\u001b[0m\u001b[0;34m)\u001b[0m\u001b[0;34m:\u001b[0m\u001b[0;34m\u001b[0m\u001b[0;34m\u001b[0m\u001b[0m\n\u001b[1;32m      6\u001b[0m   \u001b[0mdisplay\u001b[0m\u001b[0;34m(\u001b[0m\u001b[0mi\u001b[0m\u001b[0;34m)\u001b[0m\u001b[0;34m\u001b[0m\u001b[0;34m\u001b[0m\u001b[0m\n\u001b[0;32m----> 7\u001b[0;31m   \u001b[0mdisplay\u001b[0m\u001b[0;34m(\u001b[0m\u001b[0mnp\u001b[0m\u001b[0;34m.\u001b[0m\u001b[0mstack\u001b[0m\u001b[0;34m(\u001b[0m\u001b[0mi\u001b[0m\u001b[0;34m,\u001b[0m \u001b[0maxis\u001b[0m\u001b[0;34m=\u001b[0m\u001b[0;36m0\u001b[0m\u001b[0;34m)\u001b[0m\u001b[0;34m)\u001b[0m\u001b[0;34m\u001b[0m\u001b[0;34m\u001b[0m\u001b[0m\n\u001b[0m\u001b[1;32m      8\u001b[0m \u001b[0;34m\u001b[0m\u001b[0m\n\u001b[1;32m      9\u001b[0m \u001b[0;31m# print(list(zip(*sessions))[0])\u001b[0m\u001b[0;34m\u001b[0m\u001b[0;34m\u001b[0m\u001b[0m\n",
            "\u001b[0;32m/usr/local/lib/python3.11/dist-packages/numpy/_core/shape_base.py\u001b[0m in \u001b[0;36mstack\u001b[0;34m(arrays, axis, out, dtype, casting)\u001b[0m\n\u001b[1;32m    446\u001b[0m     \u001b[0mshapes\u001b[0m \u001b[0;34m=\u001b[0m \u001b[0;34m{\u001b[0m\u001b[0marr\u001b[0m\u001b[0;34m.\u001b[0m\u001b[0mshape\u001b[0m \u001b[0;32mfor\u001b[0m \u001b[0marr\u001b[0m \u001b[0;32min\u001b[0m \u001b[0marrays\u001b[0m\u001b[0;34m}\u001b[0m\u001b[0;34m\u001b[0m\u001b[0;34m\u001b[0m\u001b[0m\n\u001b[1;32m    447\u001b[0m     \u001b[0;32mif\u001b[0m \u001b[0mlen\u001b[0m\u001b[0;34m(\u001b[0m\u001b[0mshapes\u001b[0m\u001b[0;34m)\u001b[0m \u001b[0;34m!=\u001b[0m \u001b[0;36m1\u001b[0m\u001b[0;34m:\u001b[0m\u001b[0;34m\u001b[0m\u001b[0;34m\u001b[0m\u001b[0m\n\u001b[0;32m--> 448\u001b[0;31m         \u001b[0;32mraise\u001b[0m \u001b[0mValueError\u001b[0m\u001b[0;34m(\u001b[0m\u001b[0;34m'all input arrays must have the same shape'\u001b[0m\u001b[0;34m)\u001b[0m\u001b[0;34m\u001b[0m\u001b[0;34m\u001b[0m\u001b[0m\n\u001b[0m\u001b[1;32m    449\u001b[0m \u001b[0;34m\u001b[0m\u001b[0m\n\u001b[1;32m    450\u001b[0m     \u001b[0mresult_ndim\u001b[0m \u001b[0;34m=\u001b[0m \u001b[0marrays\u001b[0m\u001b[0;34m[\u001b[0m\u001b[0;36m0\u001b[0m\u001b[0;34m]\u001b[0m\u001b[0;34m.\u001b[0m\u001b[0mndim\u001b[0m \u001b[0;34m+\u001b[0m \u001b[0;36m1\u001b[0m\u001b[0;34m\u001b[0m\u001b[0;34m\u001b[0m\u001b[0m\n",
            "\u001b[0;31mValueError\u001b[0m: all input arrays must have the same shape"
          ]
        }
      ]
    },
    {
      "cell_type": "code",
      "execution_count": 89,
      "metadata": {
        "id": "euK7WRQiG9zM",
        "outputId": "ffda6bde-c8bb-4d9b-d63f-75156db8db33",
        "colab": {
          "base_uri": "https://localhost:8080/",
          "height": 742
        }
      },
      "outputs": [
        {
          "output_type": "stream",
          "name": "stdout",
          "text": [
            "mean reward = 332.090, threshold=408.000\n"
          ]
        },
        {
          "output_type": "display_data",
          "data": {
            "text/plain": [
              "<Figure size 800x400 with 2 Axes>"
            ],
            "image/png": "[encoded data removed]"
          },
          "metadata": {}
        },
        {
          "output_type": "stream",
          "name": "stdout",
          "text": [
            "You Win! You may stop training now via KeyboardInterrupt.\n"
          ]
        },
        {
          "output_type": "error",
          "ename": "KeyboardInterrupt",
          "evalue": "",
          "traceback": [
            "\u001b[0;31m---------------------------------------------------------------------------\u001b[0m",
            "\u001b[0;31mKeyboardInterrupt\u001b[0m                         Traceback (most recent call last)",
            "\u001b[0;32m<ipython-input-89-88f09c1db2d4>\u001b[0m in \u001b[0;36m<cell line: 0>\u001b[0;34m()\u001b[0m\n\u001b[1;32m      5\u001b[0m \u001b[0;32mfor\u001b[0m \u001b[0mi\u001b[0m \u001b[0;32min\u001b[0m \u001b[0mrange\u001b[0m\u001b[0;34m(\u001b[0m\u001b[0;36m100\u001b[0m\u001b[0;34m)\u001b[0m\u001b[0;34m:\u001b[0m\u001b[0;34m\u001b[0m\u001b[0;34m\u001b[0m\u001b[0m\n\u001b[1;32m      6\u001b[0m     \u001b[0;31m# generate new sessions\u001b[0m\u001b[0;34m\u001b[0m\u001b[0;34m\u001b[0m\u001b[0m\n\u001b[0;32m----> 7\u001b[0;31m     \u001b[0msessions\u001b[0m \u001b[0;34m=\u001b[0m \u001b[0;34m[\u001b[0m\u001b[0mgenerate_session\u001b[0m\u001b[0;34m(\u001b[0m\u001b[0menv\u001b[0m\u001b[0;34m,\u001b[0m \u001b[0magent\u001b[0m\u001b[0;34m)\u001b[0m \u001b[0;32mfor\u001b[0m \u001b[0m_\u001b[0m \u001b[0;32min\u001b[0m \u001b[0mrange\u001b[0m\u001b[0;34m(\u001b[0m\u001b[0mn_sessions\u001b[0m\u001b[0;34m)\u001b[0m\u001b[0;34m]\u001b[0m\u001b[0;34m\u001b[0m\u001b[0;34m\u001b[0m\u001b[0m\n\u001b[0m\u001b[1;32m      8\u001b[0m \u001b[0;34m\u001b[0m\u001b[0m\n\u001b[1;32m      9\u001b[0m     \u001b[0;31m# states_batch, actions_batch, rewards_batch = map(np.array, zip(*sessions))\u001b[0m\u001b[0;34m\u001b[0m\u001b[0;34m\u001b[0m\u001b[0m\n",
            "\u001b[0;32m<ipython-input-89-88f09c1db2d4>\u001b[0m in \u001b[0;36m<listcomp>\u001b[0;34m(.0)\u001b[0m\n\u001b[1;32m      5\u001b[0m \u001b[0;32mfor\u001b[0m \u001b[0mi\u001b[0m \u001b[0;32min\u001b[0m \u001b[0mrange\u001b[0m\u001b[0;34m(\u001b[0m\u001b[0;36m100\u001b[0m\u001b[0;34m)\u001b[0m\u001b[0;34m:\u001b[0m\u001b[0;34m\u001b[0m\u001b[0;34m\u001b[0m\u001b[0m\n\u001b[1;32m      6\u001b[0m     \u001b[0;31m# generate new sessions\u001b[0m\u001b[0;34m\u001b[0m\u001b[0;34m\u001b[0m\u001b[0m\n\u001b[0;32m----> 7\u001b[0;31m     \u001b[0msessions\u001b[0m \u001b[0;34m=\u001b[0m \u001b[0;34m[\u001b[0m\u001b[0mgenerate_session\u001b[0m\u001b[0;34m(\u001b[0m\u001b[0menv\u001b[0m\u001b[0;34m,\u001b[0m \u001b[0magent\u001b[0m\u001b[0;34m)\u001b[0m \u001b[0;32mfor\u001b[0m \u001b[0m_\u001b[0m \u001b[0;32min\u001b[0m \u001b[0mrange\u001b[0m\u001b[0;34m(\u001b[0m\u001b[0mn_sessions\u001b[0m\u001b[0;34m)\u001b[0m\u001b[0;34m]\u001b[0m\u001b[0;34m\u001b[0m\u001b[0;34m\u001b[0m\u001b[0m\n\u001b[0m\u001b[1;32m      8\u001b[0m \u001b[0;34m\u001b[0m\u001b[0m\n\u001b[1;32m      9\u001b[0m     \u001b[0;31m# states_batch, actions_batch, rewards_batch = map(np.array, zip(*sessions))\u001b[0m\u001b[0;34m\u001b[0m\u001b[0;34m\u001b[0m\u001b[0m\n",
            "\u001b[0;32m<ipython-input-76-c2469dd1f3ed>\u001b[0m in \u001b[0;36mgenerate_session\u001b[0;34m(env, agent, t_max)\u001b[0m\n\u001b[1;32m     12\u001b[0m \u001b[0;34m\u001b[0m\u001b[0m\n\u001b[1;32m     13\u001b[0m         \u001b[0;31m# use agent to predict a vector of action probabilities for state :s:\u001b[0m\u001b[0;34m\u001b[0m\u001b[0;34m\u001b[0m\u001b[0m\n\u001b[0;32m---> 14\u001b[0;31m         \u001b[0mprobs\u001b[0m \u001b[0;34m=\u001b[0m \u001b[0magent\u001b[0m\u001b[0;34m.\u001b[0m\u001b[0mpredict_proba\u001b[0m\u001b[0;34m(\u001b[0m\u001b[0ms\u001b[0m\u001b[0;34m.\u001b[0m\u001b[0mreshape\u001b[0m\u001b[0;34m(\u001b[0m\u001b[0;36m1\u001b[0m\u001b[0;34m,\u001b[0m \u001b[0;34m-\u001b[0m\u001b[0;36m1\u001b[0m\u001b[0;34m)\u001b[0m\u001b[0;34m)\u001b[0m\u001b[0;34m.\u001b[0m\u001b[0mreshape\u001b[0m\u001b[0;34m(\u001b[0m\u001b[0;36m2\u001b[0m\u001b[0;34m)\u001b[0m\u001b[0;34m\u001b[0m\u001b[0;34m\u001b[0m\u001b[0m\n\u001b[0m\u001b[1;32m     15\u001b[0m \u001b[0;34m\u001b[0m\u001b[0m\n\u001b[1;32m     16\u001b[0m         \u001b[0;32massert\u001b[0m \u001b[0mprobs\u001b[0m\u001b[0;34m.\u001b[0m\u001b[0mshape\u001b[0m \u001b[0;34m==\u001b[0m \u001b[0;34m(\u001b[0m\u001b[0menv\u001b[0m\u001b[0;34m.\u001b[0m\u001b[0maction_space\u001b[0m\u001b[0;34m.\u001b[0m\u001b[0mn\u001b[0m\u001b[0;34m,\u001b[0m\u001b[0;34m)\u001b[0m\u001b[0;34m,\u001b[0m \u001b[0;34m\"make sure probabilities are a vector (hint: np.reshape)\"\u001b[0m\u001b[0;34m\u001b[0m\u001b[0;34m\u001b[0m\u001b[0m\n",
            "\u001b[0;32m/usr/local/lib/python3.11/dist-packages/sklearn/neural_network/_multilayer_perceptron.py\u001b[0m in \u001b[0;36mpredict_proba\u001b[0;34m(self, X)\u001b[0m\n\u001b[1;32m   1261\u001b[0m             \u001b[0mmodel\u001b[0m\u001b[0;34m,\u001b[0m \u001b[0mwhere\u001b[0m \u001b[0mclasses\u001b[0m \u001b[0mare\u001b[0m \u001b[0mordered\u001b[0m \u001b[0;32mas\u001b[0m \u001b[0mthey\u001b[0m \u001b[0mare\u001b[0m \u001b[0;32min\u001b[0m\u001b[0;31m \u001b[0m\u001b[0;31m`\u001b[0m\u001b[0mself\u001b[0m\u001b[0;34m.\u001b[0m\u001b[0mclasses_\u001b[0m\u001b[0;31m`\u001b[0m\u001b[0;34m.\u001b[0m\u001b[0;34m\u001b[0m\u001b[0;34m\u001b[0m\u001b[0m\n\u001b[1;32m   1262\u001b[0m         \"\"\"\n\u001b[0;32m-> 1263\u001b[0;31m         \u001b[0mcheck_is_fitted\u001b[0m\u001b[0;34m(\u001b[0m\u001b[0mself\u001b[0m\u001b[0;34m)\u001b[0m\u001b[0;34m\u001b[0m\u001b[0;34m\u001b[0m\u001b[0m\n\u001b[0m\u001b[1;32m   1264\u001b[0m         \u001b[0my_pred\u001b[0m \u001b[0;34m=\u001b[0m \u001b[0mself\u001b[0m\u001b[0;34m.\u001b[0m\u001b[0m_forward_pass_fast\u001b[0m\u001b[0;34m(\u001b[0m\u001b[0mX\u001b[0m\u001b[0;34m)\u001b[0m\u001b[0;34m\u001b[0m\u001b[0;34m\u001b[0m\u001b[0m\n\u001b[1;32m   1265\u001b[0m \u001b[0;34m\u001b[0m\u001b[0m\n",
            "\u001b[0;32m/usr/local/lib/python3.11/dist-packages/sklearn/utils/validation.py\u001b[0m in \u001b[0;36mcheck_is_fitted\u001b[0;34m(estimator, attributes, msg, all_or_any)\u001b[0m\n\u001b[1;32m   1749\u001b[0m         \u001b[0;32mraise\u001b[0m \u001b[0mTypeError\u001b[0m\u001b[0;34m(\u001b[0m\u001b[0;34m\"%s is not an estimator instance.\"\u001b[0m \u001b[0;34m%\u001b[0m \u001b[0;34m(\u001b[0m\u001b[0mestimator\u001b[0m\u001b[0;34m)\u001b[0m\u001b[0;34m)\u001b[0m\u001b[0;34m\u001b[0m\u001b[0;34m\u001b[0m\u001b[0m\n\u001b[1;32m   1750\u001b[0m \u001b[0;34m\u001b[0m\u001b[0m\n\u001b[0;32m-> 1751\u001b[0;31m     \u001b[0mtags\u001b[0m \u001b[0;34m=\u001b[0m \u001b[0mget_tags\u001b[0m\u001b[0;34m(\u001b[0m\u001b[0mestimator\u001b[0m\u001b[0;34m)\u001b[0m\u001b[0;34m\u001b[0m\u001b[0;34m\u001b[0m\u001b[0m\n\u001b[0m\u001b[1;32m   1752\u001b[0m \u001b[0;34m\u001b[0m\u001b[0m\n\u001b[1;32m   1753\u001b[0m     \u001b[0;32mif\u001b[0m \u001b[0;32mnot\u001b[0m \u001b[0mtags\u001b[0m\u001b[0;34m.\u001b[0m\u001b[0mrequires_fit\u001b[0m \u001b[0;32mand\u001b[0m \u001b[0mattributes\u001b[0m \u001b[0;32mis\u001b[0m \u001b[0;32mNone\u001b[0m\u001b[0;34m:\u001b[0m\u001b[0;34m\u001b[0m\u001b[0;34m\u001b[0m\u001b[0m\n",
            "\u001b[0;32m/usr/local/lib/python3.11/dist-packages/sklearn/utils/_tags.py\u001b[0m in \u001b[0;36mget_tags\u001b[0;34m(estimator)\u001b[0m\n\u001b[1;32m    391\u001b[0m     \"\"\"\n\u001b[1;32m    392\u001b[0m \u001b[0;34m\u001b[0m\u001b[0m\n\u001b[0;32m--> 393\u001b[0;31m     \u001b[0mtag_provider\u001b[0m \u001b[0;34m=\u001b[0m \u001b[0m_find_tags_provider\u001b[0m\u001b[0;34m(\u001b[0m\u001b[0mestimator\u001b[0m\u001b[0;34m)\u001b[0m\u001b[0;34m\u001b[0m\u001b[0;34m\u001b[0m\u001b[0m\n\u001b[0m\u001b[1;32m    394\u001b[0m \u001b[0;34m\u001b[0m\u001b[0m\n\u001b[1;32m    395\u001b[0m     \u001b[0;32mif\u001b[0m \u001b[0mtag_provider\u001b[0m \u001b[0;34m==\u001b[0m \u001b[0;34m\"__sklearn_tags__\"\u001b[0m\u001b[0;34m:\u001b[0m\u001b[0;34m\u001b[0m\u001b[0;34m\u001b[0m\u001b[0m\n",
            "\u001b[0;32m/usr/local/lib/python3.11/dist-packages/sklearn/utils/_tags.py\u001b[0m in \u001b[0;36m_find_tags_provider\u001b[0;34m(estimator, warn)\u001b[0m\n\u001b[1;32m    338\u001b[0m     \u001b[0mtag_provider\u001b[0m \u001b[0;34m=\u001b[0m \u001b[0;34m\"__sklearn_tags__\"\u001b[0m\u001b[0;34m\u001b[0m\u001b[0;34m\u001b[0m\u001b[0m\n\u001b[1;32m    339\u001b[0m     \u001b[0;32mfor\u001b[0m \u001b[0mklass\u001b[0m \u001b[0;32min\u001b[0m \u001b[0mtags_mro\u001b[0m\u001b[0;34m:\u001b[0m\u001b[0;34m\u001b[0m\u001b[0;34m\u001b[0m\u001b[0m\n\u001b[0;32m--> 340\u001b[0;31m         has_get_or_more_tags = any(\n\u001b[0m\u001b[1;32m    341\u001b[0m             \u001b[0mprovider\u001b[0m \u001b[0;32min\u001b[0m \u001b[0mtags_mro\u001b[0m\u001b[0;34m[\u001b[0m\u001b[0mklass\u001b[0m\u001b[0;34m]\u001b[0m \u001b[0;32mfor\u001b[0m \u001b[0mprovider\u001b[0m \u001b[0;32min\u001b[0m \u001b[0;34m(\u001b[0m\u001b[0;34m\"_get_tags\"\u001b[0m\u001b[0;34m,\u001b[0m \u001b[0;34m\"_more_tags\"\u001b[0m\u001b[0;34m)\u001b[0m\u001b[0;34m\u001b[0m\u001b[0;34m\u001b[0m\u001b[0m\n\u001b[1;32m    342\u001b[0m         )\n",
            "\u001b[0;32m/usr/local/lib/python3.11/dist-packages/sklearn/utils/_tags.py\u001b[0m in \u001b[0;36m<genexpr>\u001b[0;34m(.0)\u001b[0m\n\u001b[1;32m    338\u001b[0m     \u001b[0mtag_provider\u001b[0m \u001b[0;34m=\u001b[0m \u001b[0;34m\"__sklearn_tags__\"\u001b[0m\u001b[0;34m\u001b[0m\u001b[0;34m\u001b[0m\u001b[0m\n\u001b[1;32m    339\u001b[0m     \u001b[0;32mfor\u001b[0m \u001b[0mklass\u001b[0m \u001b[0;32min\u001b[0m \u001b[0mtags_mro\u001b[0m\u001b[0;34m:\u001b[0m\u001b[0;34m\u001b[0m\u001b[0;34m\u001b[0m\u001b[0m\n\u001b[0;32m--> 340\u001b[0;31m         has_get_or_more_tags = any(\n\u001b[0m\u001b[1;32m    341\u001b[0m             \u001b[0mprovider\u001b[0m \u001b[0;32min\u001b[0m \u001b[0mtags_mro\u001b[0m\u001b[0;34m[\u001b[0m\u001b[0mklass\u001b[0m\u001b[0;34m]\u001b[0m \u001b[0;32mfor\u001b[0m \u001b[0mprovider\u001b[0m \u001b[0;32min\u001b[0m \u001b[0;34m(\u001b[0m\u001b[0;34m\"_get_tags\"\u001b[0m\u001b[0;34m,\u001b[0m \u001b[0;34m\"_more_tags\"\u001b[0m\u001b[0;34m)\u001b[0m\u001b[0;34m\u001b[0m\u001b[0;34m\u001b[0m\u001b[0m\n\u001b[1;32m    342\u001b[0m         )\n",
            "\u001b[0;31mKeyboardInterrupt\u001b[0m: "
          ]
        }
      ],
      "source": [
        "n_sessions = 100\n",
        "percentile = 70\n",
        "log = []\n",
        "\n",
        "for i in range(100):\n",
        "    # generate new sessions\n",
        "    sessions = [generate_session(env, agent) for _ in range(n_sessions)]\n",
        "\n",
        "    # states_batch, actions_batch, rewards_batch = map(np.array, zip(*sessions))\n",
        "    states_batch, actions_batch, rewards_batch = zip(*sessions)\n",
        "\n",
        "    elite_states, elite_actions = select_elites(states_batch, actions_batch, rewards_batch, percentile)\n",
        "\n",
        "    agent.partial_fit(elite_states, elite_actions)\n",
        "\n",
        "    show_progress(\n",
        "        rewards_batch, log, percentile, reward_range=[0, np.max(rewards_batch)]\n",
        "    )\n",
        "\n",
        "    if np.mean(rewards_batch) > 190:\n",
        "        print(\"You Win! You may stop training now via KeyboardInterrupt.\")\n"
      ]
    },
    {
      "cell_type": "markdown",
      "metadata": {
        "id": "yeNWKjtsG9zM"
      },
      "source": [
        "# Results"
      ]
    },
    {
      "cell_type": "code",
      "execution_count": 90,
      "metadata": {
        "id": "RJwsWl4kG9zM"
      },
      "outputs": [],
      "source": [
        "# Record sessions\n",
        "\n",
        "from gymnasium.wrappers import RecordVideo\n",
        "\n",
        "with RecordVideo(\n",
        "    env=gym.make(\"CartPole-v1\", render_mode=\"rgb_array\"),\n",
        "    video_folder=\"./videos\",\n",
        "    episode_trigger=lambda episode_number: True,\n",
        ") as env_monitor:\n",
        "    sessions = [generate_session(env_monitor, agent) for _ in range(100)]\n"
      ]
    },
    {
      "cell_type": "code",
      "execution_count": 92,
      "metadata": {
        "id": "kLPXdME7G9zN",
        "outputId": "15d82064-0763-4732-b967-0c80dc57d7ff",
        "colab": {
          "base_uri": "https://localhost:8080/",
          "height": 502
        }
      },
      "outputs": [
        {
          "output_type": "execute_result",
          "data": {
            "text/plain": [
              "<IPython.core.display.HTML object>"
            ],
            "text/html": [
              "\n",
              "<video width=\"640\" height=\"480\" controls>\n",
              "  <source src=\"data:video/mp4;base64,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\" type=\"video/mp4\">\n",
              "</video>\n"
            ]
          },
          "metadata": {},
          "execution_count": 92
        }
      ],
      "source": [
        "# Show video. This may not work in some setups. If it doesn't\n",
        "# work for you, you can download the videos and view them locally.\n",
        "\n",
        "from pathlib import Path\n",
        "from base64 import b64encode\n",
        "from IPython.display import HTML\n",
        "\n",
        "video_paths = sorted([s for s in Path(\"videos\").iterdir() if s.suffix == \".mp4\"])\n",
        "video_path = video_paths[-2]  # You can also try other indices\n",
        "\n",
        "if \"google.colab\" in sys.modules:\n",
        "    # https://stackoverflow.com/a/57378660/1214547\n",
        "    with video_path.open(\"rb\") as fp:\n",
        "        mp4 = fp.read()\n",
        "    data_url = \"data:video/mp4;base64,\" + b64encode(mp4).decode()\n",
        "else:\n",
        "    data_url = str(video_path)\n",
        "\n",
        "HTML(\n",
        "    \"\"\"\n",
        "<video width=\"640\" height=\"480\" controls>\n",
        "  <source src=\"{}\" type=\"video/mp4\">\n",
        "</video>\n",
        "\"\"\".format(\n",
        "        data_url\n",
        "    )\n",
        ")\n"
      ]
    },
    {
      "cell_type": "markdown",
      "metadata": {
        "id": "6d_3oOQ1G9zN"
      },
      "source": [
        "# Homework part I\n",
        "\n",
        "### Tabular crossentropy method\n",
        "\n",
        "You may have noticed that the taxi problem quickly converges from -100 to a near-optimal score and then descends back into -50/-100. This is in part because the environment has some innate randomness. Namely, the starting points of passenger/driver change from episode to episode.\n",
        "\n",
        "### Tasks\n",
        "- __1.1__ (2 pts) Find out how the algorithm performance changes if you use a different `percentile` and/or `n_sessions`. Provide here some figures so we can see how the hyperparameters influence the performance.\n",
        "- __1.2__ (1 pts) Tune the algorithm to end up with positive average score.\n",
        "\n",
        "It's okay to modify the existing code.\n"
      ]
    },
    {
      "cell_type": "markdown",
      "metadata": {
        "id": "L88LySiVG9zN"
      },
      "source": [
        "```<Describe what you did here>```"
      ]
    },
    {
      "cell_type": "markdown",
      "metadata": {
        "id": "7LpAJc4rG9zN"
      },
      "source": [
        "# Homework part II\n",
        "\n",
        "### Deep crossentropy method\n",
        "\n",
        "By this moment, you should have got enough score on [CartPole-v0](https://gymnasium.farama.org/environments/classic_control/cart_pole/) to consider it solved (see the link). It's time to try something harder.\n",
        "\n",
        "* if you have any trouble with CartPole-v0 and feel stuck, feel free to ask us or your peers for help.\n",
        "\n",
        "### Tasks\n",
        "\n",
        "* __2.1__ (3 pts) Pick one of environments: `MountainCar-v0` or `LunarLander-v2`.\n",
        "  * For MountainCar, get average reward of __at least -150__\n",
        "  * For LunarLander, get average reward of __at least +50__\n",
        "\n",
        "See the tips section below, it's kinda important.\n",
        "__Note:__ If your agent is below the target score, you'll still get some of the points depending on the result, so don't be afraid to submit it.\n",
        "  \n",
        "  \n",
        "* __2.2__ (up to 6 pts) Devise a way to speed up training against the default version\n",
        "  * Obvious improvement: use [`joblib`](https://joblib.readthedocs.io/en/latest/). However, note that you will probably need to spawn a new environment in each of the workers instead of passing it via pickling. (2 pts)\n",
        "  * Try re-using samples from 3-5 last iterations when computing threshold and training. (2 pts)\n",
        "  * Obtain __-100__ at `MountainCar-v0` or __+200__ at `LunarLander-v2` (2 pts). Feel free to experiment with hyperparameters, architectures, schedules etc.\n",
        "  \n",
        "__Please list what you did in Anytask submission form__. This reduces probability that somebody misses something.\n",
        "  \n",
        "  \n",
        "### Tips\n",
        "* Gymnasium pages: [MountainCar](https://gymnasium.farama.org/environments/classic_control/mountain_car/), [LunarLander](https://gymnasium.farama.org/environments/box2d/lunar_lander/)\n",
        "* Sessions for MountainCar may last for 10k+ ticks. Make sure ```t_max``` param is at least 10k.\n",
        " * Also it may be a good idea to cut rewards via \">\" and not \">=\". If 90% of your sessions get reward of -10k and 10% are better, than if you use percentile 20% as threshold, R >= threshold __fails to cut off bad sessions__ while R > threshold works alright.\n",
        "* _issue with gym_: Some versions of gym limit game time by 200 ticks. This will prevent cem training in most cases. Make sure your agent is able to play for the specified __t_max__, and if it isn't, try `env = gym.make(\"MountainCar-v0\").env` or otherwise get rid of TimeLimit wrapper.\n",
        "* If you use old _swig_ lib for LunarLander-v2, you may get an error. See this [issue](https://github.com/openai/gym/issues/100) for solution.\n",
        "* If it doesn't train, it's a good idea to plot reward distribution and record sessions: they may give you some clue. If they don't, call course staff :)\n",
        "* 20-neuron network is probably not enough, feel free to experiment.\n",
        "\n",
        "You may find the following snippet useful:"
      ]
    },
    {
      "cell_type": "code",
      "execution_count": null,
      "metadata": {
        "id": "qcjz-nm_G9zN"
      },
      "outputs": [],
      "source": [
        "def visualize_mountain_car(env, agent):\n",
        "    # Compute policy for all possible x and v (with discretization)\n",
        "    xs = np.linspace(env.min_position, env.max_position, 100)\n",
        "    vs = np.linspace(-env.max_speed, env.max_speed, 100)\n",
        "\n",
        "    grid = np.dstack(np.meshgrid(xs, vs[::-1])).transpose(1, 0, 2)\n",
        "    grid_flat = grid.reshape(len(xs) * len(vs), 2)\n",
        "    probs = (\n",
        "        agent.predict_proba(grid_flat).reshape(len(xs), len(vs), 3).transpose(1, 0, 2)\n",
        "    )\n",
        "\n",
        "    # # The above code is equivalent to the following:\n",
        "    # probs = np.empty((len(vs), len(xs), 3))\n",
        "    # for i, v in enumerate(vs[::-1]):\n",
        "    #     for j, x in enumerate(xs):\n",
        "    #         probs[i, j, :] = agent.predict_proba([[x, v]])[0]\n",
        "\n",
        "    # Draw policy\n",
        "    f, ax = plt.subplots(figsize=(7, 7))\n",
        "    ax.imshow(\n",
        "        probs,\n",
        "        extent=(env.min_position, env.max_position, -env.max_speed, env.max_speed),\n",
        "        aspect=\"auto\",\n",
        "    )\n",
        "    ax.set_title(\"Learned policy: red=left, green=nothing, blue=right\")\n",
        "    ax.set_xlabel(\"position (x)\")\n",
        "    ax.set_ylabel(\"velocity (v)\")\n",
        "\n",
        "    # Sample a trajectory and draw it\n",
        "    states, actions, _ = generate_session(env, agent)\n",
        "    states = np.array(states)\n",
        "    ax.plot(states[:, 0], states[:, 1], color=\"white\")\n",
        "\n",
        "    # Draw every 3rd action from the trajectory\n",
        "    for (x, v), a in zip(states[::3], actions[::3]):\n",
        "        if a == 0:\n",
        "            plt.arrow(x, v, -0.1, 0, color=\"white\", head_length=0.02)\n",
        "        elif a == 2:\n",
        "            plt.arrow(x, v, 0.1, 0, color=\"white\", head_length=0.02)\n",
        "\n",
        "\n",
        "with gym.make(\"MountainCar-v0\", render_mode=\"rgb_arrary\").env as env:\n",
        "    visualize_mountain_car(env, agent)\n"
      ]
    },
    {
      "cell_type": "markdown",
      "metadata": {
        "id": "Dzk41lDPG9zO"
      },
      "source": [
        "### Bonus tasks\n",
        "\n",
        "* __2.3 bonus__ (2 pts) Try to find a network architecture and training params that solve __both__ environments above (_Points depend on implementation. If you attempted this task, please mention it in Anytask submission._)\n",
        "\n",
        "* __2.4 bonus__ (4 pts) Solve continuous action space task with `MLPRegressor` or similar.\n",
        "  * Since your agent only predicts the \"expected\" action, you will have to add noise to ensure exploration.\n",
        "  * Choose one of [MountainCarContinuous-v0](https://gymnasium.farama.org/environments/classic_control/mountain_car_continuous/) (90+ pts to solve), [LunarLanderContinuous-v2](https://gymnasium.farama.org/environments/box2d/lunar_lander/) (`env = gym.make(\"LunarLander-v2\", continuous=True)`)(200+ pts to solve)\n",
        "  * 4 points for solving. Slightly less for getting some results below solution threshold. Note that discrete and continuous environments may have slightly different rules, aside from action spaces."
      ]
    }
  ],
  "metadata": {
    "colab": {
      "provenance": [],
      "include_colab_link": true
    },
    "kernelspec": {
      "display_name": "Python 3",
      "language": "python",
      "name": "python3"
    },
    "language_info": {
      "codemirror_mode": {
        "name": "ipython",
        "version": 3
      },
      "file_extension": ".py",
      "mimetype": "text/x-python",
      "name": "python",
      "nbconvert_exporter": "python",
      "pygments_lexer": "ipython3",
      "version": "3.8.5"
    }
  },
  "nbformat": 4,
  "nbformat_minor": 0
}